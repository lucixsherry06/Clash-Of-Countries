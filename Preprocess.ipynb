{
 "cells": [
  {
   "cell_type": "code",
   "execution_count": 4,
   "id": "5307e37b-da4d-4cf5-934e-c955f4087ee9",
   "metadata": {},
   "outputs": [
    {
     "name": "stdout",
     "output_type": "stream",
     "text": [
      "✅ Columns in file: ['Country', 'Economy: Real GDP (purchasing power parity)', 'Military and Security: Military expenditures', 'People and Society: Literacy - total population', 'People and Society: Birth rate', 'People and Society: Death rate']\n",
      "⚠️ Missing values in rows:\n",
      "3           American Samoa\n",
      "4                  Andorra\n",
      "6      Antigua and Barbuda\n",
      "7                Argentina\n",
      "9                    Aruba\n",
      "              ...         \n",
      "215                Vanuatu\n",
      "217                Vietnam\n",
      "218         Virgin Islands\n",
      "219              West Bank\n",
      "220                  Yemen\n",
      "Name: Country, Length: 105, dtype: object\n",
      "✅ Saved: battle_ready_countries_cleaned.csv\n"
     ]
    }
   ],
   "source": [
    "import pandas as pd\n",
    "import re\n",
    "\n",
    "# Load the CSV\n",
    "df = pd.read_csv(\"battle_ready_countries.csv\")\n",
    "\n",
    "# Clean column names\n",
    "df.columns = df.columns.str.strip()\n",
    "\n",
    "# Print to confirm names\n",
    "print(\"✅ Columns in file:\", df.columns.tolist())\n",
    "\n",
    "# Extractors\n",
    "def extract_gdp(economy_str):\n",
    "    match = re.search(r\"\\$([\\d.,]+)\\s*billion\", str(economy_str))\n",
    "    if match:\n",
    "        return float(match.group(1).replace(\",\", \"\")) * 1e9\n",
    "    return None\n",
    "\n",
    "def extract_percentage(text):\n",
    "    match = re.search(r\"([\\d.]+)\\s*%\", str(text))\n",
    "    if match:\n",
    "        return float(match.group(1))\n",
    "    return None\n",
    "\n",
    "def extract_birth_or_death(value):\n",
    "    match = re.search(r\"([\\d.]+)\", str(value))\n",
    "    if match:\n",
    "        return float(match.group(1))\n",
    "    return None\n",
    "\n",
    "def extract_literacy(value):\n",
    "    match = re.search(r\"([\\d.]+)\", str(value))\n",
    "    if match:\n",
    "        return float(match.group(1))\n",
    "    return None\n",
    "\n",
    "# Apply transformations\n",
    "df['gdp'] = df['Economy: Real GDP (purchasing power parity)'].apply(extract_gdp)\n",
    "df['military'] = df['Military and Security: Military expenditures'].apply(extract_percentage)\n",
    "df['birth'] = df['People and Society: Birth rate'].apply(extract_birth_or_death)\n",
    "df['death'] = df['People and Society: Death rate'].apply(extract_birth_or_death)\n",
    "df['literacy'] = df['People and Society: Literacy - total population'].apply(extract_literacy)\n",
    "\n",
    "# Keep only final columns\n",
    "df = df[['Country', 'gdp', 'military', 'literacy', 'birth', 'death']]\n",
    "\n",
    "# Check missing data\n",
    "missing = df[df.isnull().any(axis=1)]\n",
    "print(\"⚠️ Missing values in rows:\")\n",
    "print(missing['Country'])\n",
    "\n",
    "# Save cleaned file\n",
    "df.to_csv(\"battle_ready_countries_cleaned.csv\", index=False)\n",
    "print(\"✅ Saved: battle_ready_countries_cleaned.csv\")\n"
   ]
  },
  {
   "cell_type": "code",
   "execution_count": null,
   "id": "94d91c34-84b5-4c21-8da0-4238ed7aedfa",
   "metadata": {},
   "outputs": [],
   "source": []
  }
 ],
 "metadata": {
  "kernelspec": {
   "display_name": "Python 3 (ipykernel)",
   "language": "python",
   "name": "python3"
  },
  "language_info": {
   "codemirror_mode": {
    "name": "ipython",
    "version": 3
   },
   "file_extension": ".py",
   "mimetype": "text/x-python",
   "name": "python",
   "nbconvert_exporter": "python",
   "pygments_lexer": "ipython3",
   "version": "3.13.1"
  }
 },
 "nbformat": 4,
 "nbformat_minor": 5
}

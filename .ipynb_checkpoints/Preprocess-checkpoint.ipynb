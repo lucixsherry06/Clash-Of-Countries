{
 "cells": [
  {
   "cell_type": "code",
   "execution_count": 1,
   "id": "5307e37b-da4d-4cf5-934e-c955f4087ee9",
   "metadata": {},
   "outputs": [
    {
     "name": "stdout",
     "output_type": "stream",
     "text": [
      "✅ cleaned_countries.csv created successfully.\n"
     ]
    }
   ],
   "source": [
    "import pandas as pd\n",
    "\n",
    "# Load original CSV (replace with your actual file name)\n",
    "df = pd.read_csv(\"countries.csv\")  # <-- change to your actual filename\n",
    "\n",
    "# Strip column names and whitespace\n",
    "df.columns = df.columns.str.strip()\n",
    "\n",
    "# Drop rows with missing country names\n",
    "df = df[df['Country'].notna()]\n",
    "\n",
    "# Optional: remove duplicates\n",
    "df = df.drop_duplicates(subset='Country')\n",
    "\n",
    "# Save cleaned version\n",
    "df.to_csv(\"cleaned_countries.csv\", index=False)\n",
    "\n",
    "print(\"✅ cleaned_countries.csv created successfully.\")\n"
   ]
  }
 ],
 "metadata": {
  "kernelspec": {
   "display_name": "Python 3 (ipykernel)",
   "language": "python",
   "name": "python3"
  },
  "language_info": {
   "codemirror_mode": {
    "name": "ipython",
    "version": 3
   },
   "file_extension": ".py",
   "mimetype": "text/x-python",
   "name": "python",
   "nbconvert_exporter": "python",
   "pygments_lexer": "ipython3",
   "version": "3.13.1"
  }
 },
 "nbformat": 4,
 "nbformat_minor": 5
}
